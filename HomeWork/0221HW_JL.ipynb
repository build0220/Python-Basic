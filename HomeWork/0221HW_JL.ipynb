{
 "cells": [
  {
   "cell_type": "code",
   "execution_count": 5,
   "metadata": {},
   "outputs": [
    {
     "name": "stdout",
     "output_type": "stream",
     "text": [
      "請輸入年收入金額3000000\n",
      "420000.0\n"
     ]
    }
   ],
   "source": [
    "salary=int(input(\"請輸入年收入金額\"))\n",
    "if salary<=400000:\n",
    "    print(\"年收入小於40萬不須課稅\")\n",
    "else:\n",
    "    if salary<1000000:\n",
    "        tax=(salary-400000)*0.05\n",
    "    elif salary<1500000:\n",
    "        tax=(salary-1000000)*0.1+600000*0.05\n",
    "    elif salary<3000000:\n",
    "        tax=(salary-1500000)*0.2+900000*0.1+600000*0.05\n",
    "    else:\n",
    "        tax=(salary-3000000)*0.5+1500000*0.2+900000*0.1+600000*0.05\n",
    "    print(tax)"
   ]
  },
  {
   "cell_type": "code",
   "execution_count": 12,
   "metadata": {},
   "outputs": [
    {
     "name": "stdout",
     "output_type": "stream",
     "text": [
      "請輸入年收入金額100000000\n",
      "應繳稅為81310000.0元\n"
     ]
    }
   ],
   "source": [
    "salary=int(input(\"請輸入年收入金額\"))\n",
    "taxLevels=[400000,1000000,1500000,3000000,salary] #稅金level\n",
    "taxWeights=[0.05,0.1,0.2,0.5]   #稅金level對應稅金權重\n",
    "k=0\n",
    "tax=0\n",
    "while salary>0:\n",
    "    salary=salary-taxLevels[k]\n",
    "    if salary<0:\n",
    "        break\n",
    "    tax=tax+salary*taxWeights[k]\n",
    "    k=k+1\n",
    "    \n",
    "print(\"應繳稅為%s元\"%(tax))\n",
    "    "
   ]
  },
  {
   "cell_type": "code",
   "execution_count": null,
   "metadata": {},
   "outputs": [],
   "source": []
  }
 ],
 "metadata": {
  "kernelspec": {
   "display_name": "Python 3",
   "language": "python",
   "name": "python3"
  },
  "language_info": {
   "codemirror_mode": {
    "name": "ipython",
    "version": 3
   },
   "file_extension": ".py",
   "mimetype": "text/x-python",
   "name": "python",
   "nbconvert_exporter": "python",
   "pygments_lexer": "ipython3",
   "version": "3.6.5"
  }
 },
 "nbformat": 4,
 "nbformat_minor": 2
}
