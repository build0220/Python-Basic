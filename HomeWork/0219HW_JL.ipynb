{
 "cells": [
  {
   "cell_type": "code",
   "execution_count": 10,
   "metadata": {},
   "outputs": [
    {
     "name": "stdout",
     "output_type": "stream",
     "text": [
      "請輸入搭乘距離(公尺)\n",
      "1500\n",
      "cost is $125.0\n"
     ]
    }
   ],
   "source": [
    "print(\"請輸入搭乘距離(公尺)\")\n",
    "distance=int(input())\n",
    "if distance<=1000:\n",
    "    print(\"cost is $%s\"%100)\n",
    "else:\n",
    "    cost=100+0.05*(distance-1000)\n",
    "    print(\"cost is $%s\"%cost)"
   ]
  }
 ],
 "metadata": {
  "kernelspec": {
   "display_name": "Python 3",
   "language": "python",
   "name": "python3"
  },
  "language_info": {
   "codemirror_mode": {
    "name": "ipython",
    "version": 3
   },
   "file_extension": ".py",
   "mimetype": "text/x-python",
   "name": "python",
   "nbconvert_exporter": "python",
   "pygments_lexer": "ipython3",
   "version": "3.6.5"
  }
 },
 "nbformat": 4,
 "nbformat_minor": 2
}
